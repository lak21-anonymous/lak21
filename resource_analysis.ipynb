{
 "cells": [
  {
   "cell_type": "code",
   "execution_count": 1,
   "metadata": {},
   "outputs": [],
   "source": [
    "import numpy as np\n",
    "import pandas as pd\n",
    "import pickle\n",
    "import matplotlib.pyplot as plt \n",
    "from sklearn.svm import SVC\n",
    "from scipy.stats import mannwhitneyu\n",
    "from scipy.stats import spearmanr\n",
    "import seaborn as sns\n",
    "\n",
    "from supervised_sentiment_analysis import *\n",
    "from constants import *\n",
    "from utilities import *"
   ]
  },
  {
   "cell_type": "code",
   "execution_count": 2,
   "metadata": {},
   "outputs": [],
   "source": [
    "merged_results = pickle.load(open('merged_results.P', 'rb'))\n",
    "merged_results['Valid Vector'] = merged_results['Skip Thought Vector'].apply(lambda x: ~np.isnan(x).any())\n",
    "removed_results = merged_results[~merged_results['Valid Vector']]\n",
    "merged_results = merged_results[merged_results['Valid Vector']]\n",
    "labeled_results = merged_results[merged_results['Categorical Tag'] != 'no tag']\n",
    "q1_results = merged_results[merged_results['Question'] == Q1]\n",
    "q1_labeled_results = labeled_results[labeled_results['Question'] == Q1]\n",
    "q1_features = np.array(q1_labeled_results['Skip Thought Vector'].tolist())\n",
    "q1_labels = np.array(q1_labeled_results['Categorical Tag'])"
   ]
  },
  {
   "cell_type": "code",
   "execution_count": 3,
   "metadata": {},
   "outputs": [],
   "source": [
    "unprocessed_results = get_problem_data(DATA)\n",
    "complete_results = merge_problem_data(unprocessed_results)\n",
    "resource_results = complete_results[complete_results['Question'] == resource_question]"
   ]
  },
  {
   "cell_type": "code",
   "execution_count": 4,
   "metadata": {},
   "outputs": [
    {
     "name": "stderr",
     "output_type": "stream",
     "text": [
      "/yw_data/robert_gold/.local/lib/python3.6/site-packages/ipykernel_launcher.py:10: SettingWithCopyWarning: \n",
      "A value is trying to be set on a copy of a slice from a DataFrame.\n",
      "Try using .loc[row_indexer,col_indexer] = value instead\n",
      "\n",
      "See the caveats in the documentation: https://pandas.pydata.org/pandas-docs/stable/user_guide/indexing.html#returning-a-view-versus-a-copy\n",
      "  # Remove the CWD from sys.path while we load stuff.\n"
     ]
    }
   ],
   "source": [
    "def get_resources(row):\n",
    "    username = row['username']\n",
    "    problem = row['Problem']\n",
    "    resources = resource_results[(resource_results['username'] == username) & (resource_results['Problem'] == problem)]['Answer']\n",
    "    assert len(resources) < 2\n",
    "    if len(resources) == 0:\n",
    "        return []\n",
    "    resources = resources.iloc[0]\n",
    "    return resources.split(', ')\n",
    "q1_results['resources'] = q1_results.apply(get_resources, axis = 1)"
   ]
  },
  {
   "cell_type": "code",
   "execution_count": 5,
   "metadata": {},
   "outputs": [
    {
     "name": "stderr",
     "output_type": "stream",
     "text": [
      "/yw_data/robert_gold/.local/lib/python3.6/site-packages/ipykernel_launcher.py:7: SettingWithCopyWarning: \n",
      "A value is trying to be set on a copy of a slice from a DataFrame.\n",
      "Try using .loc[row_indexer,col_indexer] = value instead\n",
      "\n",
      "See the caveats in the documentation: https://pandas.pydata.org/pandas-docs/stable/user_guide/indexing.html#returning-a-view-versus-a-copy\n",
      "  import sys\n"
     ]
    }
   ],
   "source": [
    "q1_results['resources']\n",
    "def real_response_count(resource_list):\n",
    "    if 'please answer the next question.' in resource_list:\n",
    "        return len(resource_list)-1\n",
    "    return len(resource_list)\n",
    "    \n",
    "q1_results['resource count'] = q1_results['resources'].apply(real_response_count)"
   ]
  },
  {
   "cell_type": "code",
   "execution_count": 6,
   "metadata": {},
   "outputs": [
    {
     "name": "stderr",
     "output_type": "stream",
     "text": [
      "/yw_data/robert_gold/.local/lib/python3.6/site-packages/ipykernel_launcher.py:4: SettingWithCopyWarning: \n",
      "A value is trying to be set on a copy of a slice from a DataFrame.\n",
      "Try using .loc[row_indexer,col_indexer] = value instead\n",
      "\n",
      "See the caveats in the documentation: https://pandas.pydata.org/pandas-docs/stable/user_guide/indexing.html#returning-a-view-versus-a-copy\n",
      "  after removing the cwd from sys.path.\n"
     ]
    }
   ],
   "source": [
    "clf = SVC()\n",
    "clf.fit(q1_features, q1_labels)\n",
    "predictions = clf.predict(list(q1_results['Skip Thought Vector']))\n",
    "q1_results['sentiment'] = predictions"
   ]
  },
  {
   "cell_type": "code",
   "execution_count": 7,
   "metadata": {},
   "outputs": [
    {
     "name": "stderr",
     "output_type": "stream",
     "text": [
      "/yw_data/robert_gold/.local/lib/python3.6/site-packages/ipykernel_launcher.py:6: SettingWithCopyWarning: \n",
      "A value is trying to be set on a copy of a slice from a DataFrame.\n",
      "Try using .loc[row_indexer,col_indexer] = value instead\n",
      "\n",
      "See the caveats in the documentation: https://pandas.pydata.org/pandas-docs/stable/user_guide/indexing.html#returning-a-view-versus-a-copy\n",
      "  \n"
     ]
    }
   ],
   "source": [
    "sentiment_dict = {\n",
    "    'positive': 1,\n",
    "    'neutral': 0,\n",
    "    'negative': -1\n",
    "}\n",
    "q1_results['sentiment score'] = q1_results['sentiment'].apply(lambda x: sentiment_dict[x])"
   ]
  },
  {
   "cell_type": "code",
   "execution_count": 8,
   "metadata": {},
   "outputs": [
    {
     "name": "stderr",
     "output_type": "stream",
     "text": [
      "/yw_data/robert_gold/.local/lib/python3.6/site-packages/ipykernel_launcher.py:2: SettingWithCopyWarning: \n",
      "A value is trying to be set on a copy of a slice from a DataFrame.\n",
      "Try using .loc[row_indexer,col_indexer] = value instead\n",
      "\n",
      "See the caveats in the documentation: https://pandas.pydata.org/pandas-docs/stable/user_guide/indexing.html#returning-a-view-versus-a-copy\n",
      "  \n"
     ]
    },
    {
     "data": {
      "text/html": [
       "<div>\n",
       "<style scoped>\n",
       "    .dataframe tbody tr th:only-of-type {\n",
       "        vertical-align: middle;\n",
       "    }\n",
       "\n",
       "    .dataframe tbody tr th {\n",
       "        vertical-align: top;\n",
       "    }\n",
       "\n",
       "    .dataframe thead th {\n",
       "        text-align: right;\n",
       "    }\n",
       "</style>\n",
       "<table border=\"1\" class=\"dataframe\">\n",
       "  <thead>\n",
       "    <tr style=\"text-align: right;\">\n",
       "      <th></th>\n",
       "      <th>used count</th>\n",
       "      <th>used sentiment</th>\n",
       "      <th>unused count</th>\n",
       "      <th>unused sentiment</th>\n",
       "      <th>Mann-Whitney U p-value</th>\n",
       "    </tr>\n",
       "  </thead>\n",
       "  <tbody>\n",
       "    <tr>\n",
       "      <th>Videos from this course</th>\n",
       "      <td>1617.0</td>\n",
       "      <td>0.023</td>\n",
       "      <td>368.0</td>\n",
       "      <td>-0.125</td>\n",
       "      <td>0.000208</td>\n",
       "    </tr>\n",
       "    <tr>\n",
       "      <th>Videos from outside this course</th>\n",
       "      <td>362.0</td>\n",
       "      <td>0.044</td>\n",
       "      <td>1623.0</td>\n",
       "      <td>-0.015</td>\n",
       "      <td>0.136805</td>\n",
       "    </tr>\n",
       "    <tr>\n",
       "      <th>Discussion thread from this course</th>\n",
       "      <td>530.0</td>\n",
       "      <td>-0.028</td>\n",
       "      <td>1455.0</td>\n",
       "      <td>0.004</td>\n",
       "      <td>0.349048</td>\n",
       "    </tr>\n",
       "    <tr>\n",
       "      <th>Discussion thread from outside this course</th>\n",
       "      <td>212.0</td>\n",
       "      <td>-0.080</td>\n",
       "      <td>1773.0</td>\n",
       "      <td>0.005</td>\n",
       "      <td>0.091025</td>\n",
       "    </tr>\n",
       "    <tr>\n",
       "      <th>Previous exercises from this course</th>\n",
       "      <td>846.0</td>\n",
       "      <td>0.008</td>\n",
       "      <td>1139.0</td>\n",
       "      <td>-0.014</td>\n",
       "      <td>0.481858</td>\n",
       "    </tr>\n",
       "    <tr>\n",
       "      <th>Exercises from outside this course</th>\n",
       "      <td>385.0</td>\n",
       "      <td>-0.052</td>\n",
       "      <td>1600.0</td>\n",
       "      <td>0.007</td>\n",
       "      <td>0.132014</td>\n",
       "    </tr>\n",
       "    <tr>\n",
       "      <th>Previous knowledge/skills from another programming language</th>\n",
       "      <td>689.0</td>\n",
       "      <td>0.000</td>\n",
       "      <td>1296.0</td>\n",
       "      <td>-0.007</td>\n",
       "      <td>0.833825</td>\n",
       "    </tr>\n",
       "    <tr>\n",
       "      <th>OTHER</th>\n",
       "      <td>145.0</td>\n",
       "      <td>-0.117</td>\n",
       "      <td>1840.0</td>\n",
       "      <td>0.004</td>\n",
       "      <td>0.039516</td>\n",
       "    </tr>\n",
       "  </tbody>\n",
       "</table>\n",
       "</div>"
      ],
      "text/plain": [
       "                                                    used count  \\\n",
       "Videos from this course                                 1617.0   \n",
       "Videos from outside this course                          362.0   \n",
       "Discussion thread from this course                       530.0   \n",
       "Discussion thread from outside this course               212.0   \n",
       "Previous exercises from this course                      846.0   \n",
       "Exercises from outside this course                       385.0   \n",
       "Previous knowledge/skills from another programm...       689.0   \n",
       "OTHER                                                    145.0   \n",
       "\n",
       "                                                    used sentiment  \\\n",
       "Videos from this course                                      0.023   \n",
       "Videos from outside this course                              0.044   \n",
       "Discussion thread from this course                          -0.028   \n",
       "Discussion thread from outside this course                  -0.080   \n",
       "Previous exercises from this course                          0.008   \n",
       "Exercises from outside this course                          -0.052   \n",
       "Previous knowledge/skills from another programm...           0.000   \n",
       "OTHER                                                       -0.117   \n",
       "\n",
       "                                                    unused count  \\\n",
       "Videos from this course                                    368.0   \n",
       "Videos from outside this course                           1623.0   \n",
       "Discussion thread from this course                        1455.0   \n",
       "Discussion thread from outside this course                1773.0   \n",
       "Previous exercises from this course                       1139.0   \n",
       "Exercises from outside this course                        1600.0   \n",
       "Previous knowledge/skills from another programm...        1296.0   \n",
       "OTHER                                                     1840.0   \n",
       "\n",
       "                                                    unused sentiment  \\\n",
       "Videos from this course                                       -0.125   \n",
       "Videos from outside this course                               -0.015   \n",
       "Discussion thread from this course                             0.004   \n",
       "Discussion thread from outside this course                     0.005   \n",
       "Previous exercises from this course                           -0.014   \n",
       "Exercises from outside this course                             0.007   \n",
       "Previous knowledge/skills from another programm...            -0.007   \n",
       "OTHER                                                          0.004   \n",
       "\n",
       "                                                    Mann-Whitney U p-value  \n",
       "Videos from this course                                           0.000208  \n",
       "Videos from outside this course                                   0.136805  \n",
       "Discussion thread from this course                                0.349048  \n",
       "Discussion thread from outside this course                        0.091025  \n",
       "Previous exercises from this course                               0.481858  \n",
       "Exercises from outside this course                                0.132014  \n",
       "Previous knowledge/skills from another programm...                0.833825  \n",
       "OTHER                                                             0.039516  "
      ]
     },
     "execution_count": 8,
     "metadata": {},
     "output_type": "execute_result"
    }
   ],
   "source": [
    "def mannwhitney_resources(results, resource):\n",
    "    results['used resource'] = results['resources'].apply(lambda x: resource in x)\n",
    "    used = np.array(results[results['used resource']]['sentiment score'])\n",
    "    unused = np.array(results[~results['used resource']]['sentiment score'])\n",
    "    mwu = mannwhitneyu(used, unused, alternative = 'two-sided')\n",
    "    return [len(used), np.round(np.mean(used), 3), len(unused), np.round(np.mean(unused), 3), mwu[1]]\n",
    "\n",
    "mwu_stats = []\n",
    "for resource_answer in resource_answers:\n",
    "    mwu_stats.append(mannwhitney_resources(q1_results, resource_answer))\n",
    "    \n",
    "pd.DataFrame(np.array(mwu_stats), columns = ['used count', 'used sentiment', 'unused count', 'unused sentiment', 'Mann-Whitney U p-value'], index = resource_answers)"
   ]
  },
  {
   "cell_type": "code",
   "execution_count": 10,
   "metadata": {},
   "outputs": [
    {
     "data": {
      "text/plain": [
       "Text(0, 0.5, 'Number of students')"
      ]
     },
     "execution_count": 10,
     "metadata": {},
     "output_type": "execute_result"
    },
    {
     "data": {
      "image/png": "[encoded data removed]",
      "text/plain": [
       "<Figure size 576x576 with 1 Axes>"
      ]
     },
     "metadata": {
      "needs_background": "light"
     },
     "output_type": "display_data"
    }
   ],
   "source": [
    "classes = ['positive', 'negative']\n",
    "fig, ax = plt.subplots(figsize = (8,8))\n",
    "sentiment_resource_counts = [list(q1_results[q1_results['sentiment'] == label]['resource count']) for label in classes]\n",
    "bins = range(10)\n",
    "arr = ax.hist(sentiment_resource_counts, bins, stacked=False, density=False, label = classes)\n",
    "ax.legend(prop={'size': 16})\n",
    "ax.set_xlabel('Number of resources used', size = 16)\n",
    "ax.set_xticks(range(10))\n",
    "ax.set_ylabel('Number of students', size = 16)"
   ]
  },
  {
   "cell_type": "code",
   "execution_count": 11,
   "metadata": {},
   "outputs": [
    {
     "data": {
      "text/plain": [
       "(array([  0., 631., 546., 421., 227.,  96.,  38.,  24.,   2.]),\n",
       " array([0, 1, 2, 3, 4, 5, 6, 7, 8, 9]),\n",
       " <a list of 9 Patch objects>)"
      ]
     },
     "execution_count": 11,
     "metadata": {},
     "output_type": "execute_result"
    },
    {
     "data": {
      "image/png": "[encoded data removed]",
      "text/plain": [
       "<Figure size 576x576 with 1 Axes>"
      ]
     },
     "metadata": {
      "needs_background": "light"
     },
     "output_type": "display_data"
    }
   ],
   "source": [
    "plt.figure(figsize = (8,8))\n",
    "plt.hist(list(q1_results['resource count']), bins = range(10))"
   ]
  },
  {
   "cell_type": "code",
   "execution_count": 12,
   "metadata": {},
   "outputs": [
    {
     "name": "stderr",
     "output_type": "stream",
     "text": [
      "/yw_data/robert_gold/.local/lib/python3.6/site-packages/ipykernel_launcher.py:13: SettingWithCopyWarning: \n",
      "A value is trying to be set on a copy of a slice from a DataFrame.\n",
      "Try using .loc[row_indexer,col_indexer] = value instead\n",
      "\n",
      "See the caveats in the documentation: https://pandas.pydata.org/pandas-docs/stable/user_guide/indexing.html#returning-a-view-versus-a-copy\n",
      "  del sys.path[0]\n"
     ]
    },
    {
     "data": {
      "text/html": [
       "<div>\n",
       "<style scoped>\n",
       "    .dataframe tbody tr th:only-of-type {\n",
       "        vertical-align: middle;\n",
       "    }\n",
       "\n",
       "    .dataframe tbody tr th {\n",
       "        vertical-align: top;\n",
       "    }\n",
       "\n",
       "    .dataframe thead th {\n",
       "        text-align: right;\n",
       "    }\n",
       "</style>\n",
       "<table border=\"1\" class=\"dataframe\">\n",
       "  <thead>\n",
       "    <tr style=\"text-align: right;\">\n",
       "      <th></th>\n",
       "      <th>Videos from this course</th>\n",
       "      <th>Videos from outside this course</th>\n",
       "      <th>Discussion thread from this course</th>\n",
       "      <th>Discussion thread from outside this course</th>\n",
       "      <th>Previous exercises from this course</th>\n",
       "      <th>Exercises from outside this course</th>\n",
       "      <th>Previous knowledge/skills from another programming language</th>\n",
       "      <th>OTHER</th>\n",
       "    </tr>\n",
       "  </thead>\n",
       "  <tbody>\n",
       "    <tr>\n",
       "      <th>fex1</th>\n",
       "      <td>0.791667</td>\n",
       "      <td>0.169271</td>\n",
       "      <td>0.244792</td>\n",
       "      <td>0.031250</td>\n",
       "      <td>0.226562</td>\n",
       "      <td>0.184896</td>\n",
       "      <td>0.437500</td>\n",
       "      <td>0.085938</td>\n",
       "    </tr>\n",
       "    <tr>\n",
       "      <th>fex2</th>\n",
       "      <td>0.830295</td>\n",
       "      <td>0.138850</td>\n",
       "      <td>0.246844</td>\n",
       "      <td>0.113604</td>\n",
       "      <td>0.352034</td>\n",
       "      <td>0.183731</td>\n",
       "      <td>0.291725</td>\n",
       "      <td>0.088359</td>\n",
       "    </tr>\n",
       "    <tr>\n",
       "      <th>fex4</th>\n",
       "      <td>0.856942</td>\n",
       "      <td>0.110799</td>\n",
       "      <td>0.196353</td>\n",
       "      <td>0.047686</td>\n",
       "      <td>0.399719</td>\n",
       "      <td>0.131837</td>\n",
       "      <td>0.263675</td>\n",
       "      <td>0.078541</td>\n",
       "    </tr>\n",
       "    <tr>\n",
       "      <th>ps1</th>\n",
       "      <td>0.716690</td>\n",
       "      <td>0.196353</td>\n",
       "      <td>0.215989</td>\n",
       "      <td>0.081346</td>\n",
       "      <td>0.510519</td>\n",
       "      <td>0.225806</td>\n",
       "      <td>0.398317</td>\n",
       "      <td>0.077139</td>\n",
       "    </tr>\n",
       "    <tr>\n",
       "      <th>ps2</th>\n",
       "      <td>0.831933</td>\n",
       "      <td>0.218487</td>\n",
       "      <td>0.379552</td>\n",
       "      <td>0.154062</td>\n",
       "      <td>0.558824</td>\n",
       "      <td>0.173669</td>\n",
       "      <td>0.341737</td>\n",
       "      <td>0.102241</td>\n",
       "    </tr>\n",
       "    <tr>\n",
       "      <th>ps4</th>\n",
       "      <td>0.861789</td>\n",
       "      <td>0.227642</td>\n",
       "      <td>0.338753</td>\n",
       "      <td>0.176152</td>\n",
       "      <td>0.514905</td>\n",
       "      <td>0.249322</td>\n",
       "      <td>0.349593</td>\n",
       "      <td>0.065041</td>\n",
       "    </tr>\n",
       "  </tbody>\n",
       "</table>\n",
       "</div>"
      ],
      "text/plain": [
       "      Videos from this course  Videos from outside this course  \\\n",
       "fex1                 0.791667                         0.169271   \n",
       "fex2                 0.830295                         0.138850   \n",
       "fex4                 0.856942                         0.110799   \n",
       "ps1                  0.716690                         0.196353   \n",
       "ps2                  0.831933                         0.218487   \n",
       "ps4                  0.861789                         0.227642   \n",
       "\n",
       "      Discussion thread from this course  \\\n",
       "fex1                            0.244792   \n",
       "fex2                            0.246844   \n",
       "fex4                            0.196353   \n",
       "ps1                             0.215989   \n",
       "ps2                             0.379552   \n",
       "ps4                             0.338753   \n",
       "\n",
       "      Discussion thread from outside this course  \\\n",
       "fex1                                    0.031250   \n",
       "fex2                                    0.113604   \n",
       "fex4                                    0.047686   \n",
       "ps1                                     0.081346   \n",
       "ps2                                     0.154062   \n",
       "ps4                                     0.176152   \n",
       "\n",
       "      Previous exercises from this course  Exercises from outside this course  \\\n",
       "fex1                             0.226562                            0.184896   \n",
       "fex2                             0.352034                            0.183731   \n",
       "fex4                             0.399719                            0.131837   \n",
       "ps1                              0.510519                            0.225806   \n",
       "ps2                              0.558824                            0.173669   \n",
       "ps4                              0.514905                            0.249322   \n",
       "\n",
       "      Previous knowledge/skills from another programming language     OTHER  \n",
       "fex1                                           0.437500            0.085938  \n",
       "fex2                                           0.291725            0.088359  \n",
       "fex4                                           0.263675            0.078541  \n",
       "ps1                                            0.398317            0.077139  \n",
       "ps2                                            0.341737            0.102241  \n",
       "ps4                                            0.349593            0.065041  "
      ]
     },
     "execution_count": 12,
     "metadata": {},
     "output_type": "execute_result"
    }
   ],
   "source": [
    "n = True\n",
    "\n",
    "def normalize_array(a, axis=-1, order=2):\n",
    "    l1 = np.atleast_1d(np.linalg.norm(a, order, axis))\n",
    "    l1[l1==0] = 1\n",
    "    return a / np.expand_dims(l1, axis)\n",
    "\n",
    "def get_problem_resource_counts(results, normalize = False):\n",
    "    problem_resource_counts = []\n",
    "    for problem in PROBLEMS:\n",
    "        problem_count = []\n",
    "        for resource in resource_answers:\n",
    "            resource_results['good'] = results.apply(lambda x: resource in x['Answer'].split(', ') and x['Problem'] == problem, axis = 1)\n",
    "            count = results[resource_results['good']].shape[0]/results[resource_results['Problem'] == problem].shape[0] if normalize else results[resource_results['good']].shape[0]\n",
    "            problem_count.append(count)\n",
    "        problem_resource_counts.append(problem_count)\n",
    "    return pd.DataFrame(np.array(problem_resource_counts), columns = resource_answers, index = PROBLEMS)\n",
    "\n",
    "problem_resource_df = get_problem_resource_counts(resource_results, normalize = n)\n",
    "problem_resource_df"
   ]
  },
  {
   "cell_type": "code",
   "execution_count": 13,
   "metadata": {},
   "outputs": [
    {
     "data": {
      "text/plain": [
       "<matplotlib.axes._subplots.AxesSubplot at 0x7f9112770fd0>"
      ]
     },
     "execution_count": 13,
     "metadata": {},
     "output_type": "execute_result"
    },
    {
     "data": {
      "image/png": "[encoded data removed]",
      "text/plain": [
       "<Figure size 864x576 with 2 Axes>"
      ]
     },
     "metadata": {
      "needs_background": "light"
     },
     "output_type": "display_data"
    }
   ],
   "source": [
    "fig, ax = plt.subplots(figsize = (12,8))\n",
    "fmt = '.2g' if n else 'd'\n",
    "sns.heatmap(problem_resource_df, cmap=plt.cm.Blues, ax = ax, square = True, annot = True, fmt = fmt)"
   ]
  },
  {
   "cell_type": "code",
   "execution_count": 14,
   "metadata": {},
   "outputs": [
    {
     "name": "stderr",
     "output_type": "stream",
     "text": [
      "/yw_data/robert_gold/.local/lib/python3.6/site-packages/ipykernel_launcher.py:11: SettingWithCopyWarning: \n",
      "A value is trying to be set on a copy of a slice from a DataFrame.\n",
      "Try using .loc[row_indexer,col_indexer] = value instead\n",
      "\n",
      "See the caveats in the documentation: https://pandas.pydata.org/pandas-docs/stable/user_guide/indexing.html#returning-a-view-versus-a-copy\n",
      "  # This is added back by InteractiveShellApp.init_path()\n",
      "/yw_data/robert_gold/.local/lib/python3.6/site-packages/ipykernel_launcher.py:12: SettingWithCopyWarning: \n",
      "A value is trying to be set on a copy of a slice from a DataFrame.\n",
      "Try using .loc[row_indexer,col_indexer] = value instead\n",
      "\n",
      "See the caveats in the documentation: https://pandas.pydata.org/pandas-docs/stable/user_guide/indexing.html#returning-a-view-versus-a-copy\n",
      "  if sys.path[0] == '':\n"
     ]
    }
   ],
   "source": [
    "challenge_results = complete_results[complete_results['Question'] == challenge_question]\n",
    "def get_challenge(row):\n",
    "    username = row['username']\n",
    "    problem = row['Problem']\n",
    "    challenge_prediction = challenge_results[(challenge_results['username'] == username) & (challenge_results['Problem'] == problem)]['Answer']\n",
    "    assert len(challenge_prediction) < 2\n",
    "    if len(challenge_prediction) == 0:\n",
    "        return 'none'\n",
    "    return challenge_prediction.iloc[0]\n",
    "\n",
    "q1_results['challenge'] = q1_results.apply(get_challenge, axis = 1)\n",
    "q1_results['challenge score'] = q1_results['challenge'].apply(lambda x: challenge_responses.index(x))"
   ]
  },
  {
   "cell_type": "code",
   "execution_count": 15,
   "metadata": {},
   "outputs": [
    {
     "data": {
      "text/plain": [
       "SpearmanrResult(correlation=0.11262532838169874, pvalue=4.88726357892712e-07)"
      ]
     },
     "execution_count": 15,
     "metadata": {},
     "output_type": "execute_result"
    }
   ],
   "source": [
    "def spearmanr_challenge_resource_count(results):\n",
    "    return spearmanr(list(results['challenge score']), list(results['resource count']))\n",
    "spearmanr_challenge_resource_count(q1_results)"
   ]
  },
  {
   "cell_type": "code",
   "execution_count": 16,
   "metadata": {},
   "outputs": [
    {
     "name": "stderr",
     "output_type": "stream",
     "text": [
      "/yw_data/robert_gold/.local/lib/python3.6/site-packages/ipykernel_launcher.py:8: SettingWithCopyWarning: \n",
      "A value is trying to be set on a copy of a slice from a DataFrame.\n",
      "Try using .loc[row_indexer,col_indexer] = value instead\n",
      "\n",
      "See the caveats in the documentation: https://pandas.pydata.org/pandas-docs/stable/user_guide/indexing.html#returning-a-view-versus-a-copy\n",
      "  \n"
     ]
    },
    {
     "data": {
      "text/html": [
       "<div>\n",
       "<style scoped>\n",
       "    .dataframe tbody tr th:only-of-type {\n",
       "        vertical-align: middle;\n",
       "    }\n",
       "\n",
       "    .dataframe tbody tr th {\n",
       "        vertical-align: top;\n",
       "    }\n",
       "\n",
       "    .dataframe thead th {\n",
       "        text-align: right;\n",
       "    }\n",
       "</style>\n",
       "<table border=\"1\" class=\"dataframe\">\n",
       "  <thead>\n",
       "    <tr style=\"text-align: right;\">\n",
       "      <th></th>\n",
       "      <th>1</th>\n",
       "      <th>2</th>\n",
       "      <th>3</th>\n",
       "      <th>4</th>\n",
       "      <th>5</th>\n",
       "      <th>6</th>\n",
       "      <th>7</th>\n",
       "      <th>8</th>\n",
       "    </tr>\n",
       "  </thead>\n",
       "  <tbody>\n",
       "    <tr>\n",
       "      <th>Not at all challenging</th>\n",
       "      <td>0.436464</td>\n",
       "      <td>0.270718</td>\n",
       "      <td>0.154696</td>\n",
       "      <td>0.104972</td>\n",
       "      <td>0.016575</td>\n",
       "      <td>0.011050</td>\n",
       "      <td>0.005525</td>\n",
       "      <td>0.000000</td>\n",
       "    </tr>\n",
       "    <tr>\n",
       "      <th>Slightly challenging</th>\n",
       "      <td>0.315166</td>\n",
       "      <td>0.291469</td>\n",
       "      <td>0.232227</td>\n",
       "      <td>0.099526</td>\n",
       "      <td>0.037915</td>\n",
       "      <td>0.016588</td>\n",
       "      <td>0.007109</td>\n",
       "      <td>0.000000</td>\n",
       "    </tr>\n",
       "    <tr>\n",
       "      <th>Moderately challenging</th>\n",
       "      <td>0.319652</td>\n",
       "      <td>0.297264</td>\n",
       "      <td>0.211443</td>\n",
       "      <td>0.095771</td>\n",
       "      <td>0.043532</td>\n",
       "      <td>0.022388</td>\n",
       "      <td>0.008706</td>\n",
       "      <td>0.001244</td>\n",
       "    </tr>\n",
       "    <tr>\n",
       "      <th>Very challenging</th>\n",
       "      <td>0.268585</td>\n",
       "      <td>0.247002</td>\n",
       "      <td>0.242206</td>\n",
       "      <td>0.151079</td>\n",
       "      <td>0.062350</td>\n",
       "      <td>0.014388</td>\n",
       "      <td>0.014388</td>\n",
       "      <td>0.000000</td>\n",
       "    </tr>\n",
       "    <tr>\n",
       "      <th>Extremely challenging/</th>\n",
       "      <td>0.310559</td>\n",
       "      <td>0.198758</td>\n",
       "      <td>0.149068</td>\n",
       "      <td>0.161491</td>\n",
       "      <td>0.099379</td>\n",
       "      <td>0.031056</td>\n",
       "      <td>0.043478</td>\n",
       "      <td>0.006211</td>\n",
       "    </tr>\n",
       "  </tbody>\n",
       "</table>\n",
       "</div>"
      ],
      "text/plain": [
       "                               1         2         3         4         5  \\\n",
       "Not at all challenging  0.436464  0.270718  0.154696  0.104972  0.016575   \n",
       "Slightly challenging    0.315166  0.291469  0.232227  0.099526  0.037915   \n",
       "Moderately challenging  0.319652  0.297264  0.211443  0.095771  0.043532   \n",
       "Very challenging        0.268585  0.247002  0.242206  0.151079  0.062350   \n",
       "Extremely challenging/  0.310559  0.198758  0.149068  0.161491  0.099379   \n",
       "\n",
       "                               6         7         8  \n",
       "Not at all challenging  0.011050  0.005525  0.000000  \n",
       "Slightly challenging    0.016588  0.007109  0.000000  \n",
       "Moderately challenging  0.022388  0.008706  0.001244  \n",
       "Very challenging        0.014388  0.014388  0.000000  \n",
       "Extremely challenging/  0.031056  0.043478  0.006211  "
      ]
     },
     "execution_count": 16,
     "metadata": {},
     "output_type": "execute_result"
    }
   ],
   "source": [
    "n = True\n",
    "\n",
    "def get_challenge_resource_counts(results, normalize = False):\n",
    "    challenge_resource_counts = []\n",
    "    for challenge_response in challenge_responses:\n",
    "        challenge_count = []\n",
    "        for k in range(1, 9):\n",
    "            results['good'] = results.apply(lambda x: x['resource count'] == k and x['challenge'] == challenge_response, axis = 1)\n",
    "            count = results[results['good']].shape[0]/results[results['challenge'] == challenge_response].shape[0] if normalize else results[results['good']].shape[0]\n",
    "            challenge_count.append(count)\n",
    "        challenge_resource_counts.append(challenge_count)\n",
    "    return pd.DataFrame(np.array(challenge_resource_counts), columns = range(1, 9), index = challenge_responses)\n",
    "\n",
    "challenge_resource_df = get_challenge_resource_counts(q1_results, normalize = n)\n",
    "challenge_resource_df"
   ]
  },
  {
   "cell_type": "code",
   "execution_count": 17,
   "metadata": {},
   "outputs": [
    {
     "data": {
      "text/plain": [
       "<matplotlib.axes._subplots.AxesSubplot at 0x7f9164937a58>"
      ]
     },
     "execution_count": 17,
     "metadata": {},
     "output_type": "execute_result"
    },
    {
     "data": {
      "image/png": "[encoded data removed]",
      "text/plain": [
       "<Figure size 864x432 with 2 Axes>"
      ]
     },
     "metadata": {
      "needs_background": "light"
     },
     "output_type": "display_data"
    }
   ],
   "source": [
    "fig, ax = plt.subplots(figsize = (12,6))\n",
    "fmt = '.2g' if n else 'd'\n",
    "sns.heatmap(challenge_resource_df, cmap=plt.cm.Blues, ax = ax, square = True, annot = True, fmt = fmt)"
   ]
  },
  {
   "cell_type": "code",
   "execution_count": null,
   "metadata": {},
   "outputs": [],
   "source": []
  }
 ],
 "metadata": {
  "kernelspec": {
   "display_name": "Python 3",
   "language": "python",
   "name": "python3"
  },
  "language_info": {
   "codemirror_mode": {
    "name": "ipython",
    "version": 3
   },
   "file_extension": ".py",
   "mimetype": "text/x-python",
   "name": "python",
   "nbconvert_exporter": "python",
   "pygments_lexer": "ipython3",
   "version": "3.6.8"
  }
 },
 "nbformat": 4,
 "nbformat_minor": 2
}
