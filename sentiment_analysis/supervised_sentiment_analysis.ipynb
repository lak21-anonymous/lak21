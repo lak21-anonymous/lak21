{
 "cells": [
  {
   "cell_type": "code",
   "execution_count": 1,
   "metadata": {},
   "outputs": [
    {
     "ename": "ImportError",
     "evalue": "No module named 'nltk'",
     "output_type": "error",
     "traceback": [
      "\u001b[0;31m---------------------------------------------------------------------------\u001b[0m",
      "\u001b[0;31mImportError\u001b[0m                               Traceback (most recent call last)",
      "\u001b[0;32m<ipython-input-1-0c3578411406>\u001b[0m in \u001b[0;36m<module>\u001b[0;34m()\u001b[0m\n\u001b[0;32m----> 1\u001b[0;31m \u001b[0;32mfrom\u001b[0m \u001b[0mpreprocess\u001b[0m \u001b[0;32mimport\u001b[0m \u001b[0;34m*\u001b[0m\u001b[0;34m\u001b[0m\u001b[0m\n\u001b[0m\u001b[1;32m      2\u001b[0m \u001b[0;32mfrom\u001b[0m \u001b[0mutilities\u001b[0m \u001b[0;32mimport\u001b[0m \u001b[0;34m*\u001b[0m\u001b[0;34m\u001b[0m\u001b[0m\n\u001b[1;32m      3\u001b[0m \u001b[0;32mfrom\u001b[0m \u001b[0mconstants\u001b[0m \u001b[0;32mimport\u001b[0m \u001b[0;34m*\u001b[0m\u001b[0;34m\u001b[0m\u001b[0m\n\u001b[1;32m      4\u001b[0m \u001b[0;32mfrom\u001b[0m \u001b[0msupervised_sentiment_analysis\u001b[0m \u001b[0;32mimport\u001b[0m \u001b[0;34m*\u001b[0m\u001b[0;34m\u001b[0m\u001b[0m\n",
      "\u001b[0;32m~/mitx-utilities/surveys/preprocess.py\u001b[0m in \u001b[0;36m<module>\u001b[0;34m()\u001b[0m\n\u001b[0;32m----> 1\u001b[0;31m \u001b[0;32mimport\u001b[0m \u001b[0mnltk\u001b[0m\u001b[0;34m\u001b[0m\u001b[0m\n\u001b[0m\u001b[1;32m      2\u001b[0m \u001b[0;32mimport\u001b[0m \u001b[0mnumpy\u001b[0m \u001b[0;32mas\u001b[0m \u001b[0mnp\u001b[0m\u001b[0;34m\u001b[0m\u001b[0m\n\u001b[1;32m      3\u001b[0m \u001b[0;32mimport\u001b[0m \u001b[0mcsv\u001b[0m\u001b[0;34m\u001b[0m\u001b[0m\n\u001b[1;32m      4\u001b[0m \u001b[0;32mimport\u001b[0m \u001b[0mpkg_resources\u001b[0m\u001b[0;34m\u001b[0m\u001b[0m\n\u001b[1;32m      5\u001b[0m \u001b[0;32mimport\u001b[0m \u001b[0mcopy\u001b[0m\u001b[0;34m\u001b[0m\u001b[0m\n",
      "\u001b[0;31mImportError\u001b[0m: No module named 'nltk'"
     ]
    }
   ],
   "source": [
    "from preprocess import *\n",
    "from utilities import *\n",
    "from constants import *\n",
    "from supervised_sentiment_analysis import *\n"
   ]
  },
  {
   "cell_type": "markdown",
   "metadata": {},
   "source": [
    "- Reformat results and update them with the manual labels from the two files\n",
    "- Filter data to only include labeled results and get number of labels"
   ]
  },
  {
   "cell_type": "code",
   "execution_count": null,
   "metadata": {
    "scrolled": true
   },
   "outputs": [],
   "source": [
    "import pickle\n",
    "merged_results = pickle.load(open('merged_results.pickle', 'rb'))\n",
    "merged_results = get_manual_tags(merged_results, 'manual_tags_Q1.csv')\n",
    "merged_results = get_manual_tags(merged_results, 'manual_tags_Q2.csv')\n",
    "labeled_results = merged_results[~(merged_results['Manual Tag'] == 'no tag')]\n",
    "labeled_results.shape"
   ]
  },
  {
   "cell_type": "markdown",
   "metadata": {},
   "source": [
    "- get a summary of the accuracy of a RandomForestClassifier on the results\n",
    "    - see [here](https://scikit-learn.org/stable/modules/generated/sklearn.ensemble.RandomForestClassifier.html#) for info on the Random Forest Classifier\n",
    "    - data is split 70-30 between training and testing\n",
    "    - \"Regular Word Counts\" means the feature vectors are raw counts of how many times a word occurs in each text\n",
    "    - \"TFIDF Normalized Word Counts\" means the feature vectors are normalized using term frequency–inverse document frequency\n",
    "        - see [here](https://en.wikipedia.org/wiki/Tf–idf) for info on tf-idf\n",
    "    - Summaries given for classfication on all data, just question 1, and just question 2\n",
    "    - labels are given as \\[-1, -0.5, 0, 0.5, 1\\] indicating negative, slightly negative, neutral, slightly positive, or positive responses, respectively"
   ]
  },
  {
   "cell_type": "code",
   "execution_count": null,
   "metadata": {},
   "outputs": [],
   "source": [
    "q1_merged_results = merged_results[merged_results['Question']==Q1]\n",
    "q2_merged_results = merged_results[merged_results['Question']==Q1]\n",
    "for data in [merged_results, q1_merged_results, q2_merged_results]:\n",
    "    random_forest_accuracy_summary(data)\n",
    "    print()"
   ]
  },
  {
   "cell_type": "markdown",
   "metadata": {},
   "source": [
    "- Exactly the same as above, except responses are classified as negative (-1 or -0.5), neutral (0) or positive (0.5 or 1)"
   ]
  },
  {
   "cell_type": "code",
   "execution_count": null,
   "metadata": {},
   "outputs": [],
   "source": [
    "q1_labeled_results = labeled_results[labeled_results['Question'] == Q1]\n",
    "get_word_counts(q1_labeled_results).shape"
   ]
  },
  {
   "cell_type": "code",
   "execution_count": null,
   "metadata": {},
   "outputs": [],
   "source": [
    "for data in [merged_results, q1_merged_results, q2_merged_results]:\n",
    "    random_forest_accuracy_summary(data, key = 'Categorical Tag')\n",
    "    print()"
   ]
  },
  {
   "cell_type": "markdown",
   "metadata": {},
   "source": [
    "- plot confusion matrices using Random Forest Classifier (rfc), Gaussian Naive Bayes (gnb), and Support Vector Classification (svc)\n",
    "    - Info on [Random Forest](https://scikit-learn.org/stable/modules/generated/sklearn.ensemble.RandomForestClassifier.html#), [Gaussian Naive Bayes](https://scikit-learn.org/stable/modules/generated/sklearn.naive_bayes.GaussianNB.html#sklearn.naive_bayes.GaussianNB), and [Support Vector Classification](https://scikit-learn.org/stable/modules/generated/sklearn.svm.SVC.html#sklearn.svm.SVC)\n",
    "    - Confusion matrices are made based on positive, negative, or neutral responses\n",
    "    - Numbers in heatmap indicate total counts and normalized counts for each cell\n",
    "    - Given for Question 1 results, Question 2 results, and combined results in that order"
   ]
  },
  {
   "cell_type": "code",
   "execution_count": null,
   "metadata": {
    "scrolled": true
   },
   "outputs": [],
   "source": [
    "confusion_matrix_summary(merged_results, model = 'rfc')"
   ]
  },
  {
   "cell_type": "code",
   "execution_count": null,
   "metadata": {},
   "outputs": [],
   "source": [
    "confusion_matrix_summary(merged_results, model = 'gnb')"
   ]
  },
  {
   "cell_type": "code",
   "execution_count": null,
   "metadata": {},
   "outputs": [],
   "source": [
    "confusion_matrix_summary(merged_results, model = 'svc')"
   ]
  },
  {
   "cell_type": "code",
   "execution_count": null,
   "metadata": {},
   "outputs": [],
   "source": [
    "TRIALS = 1\n",
    "SPLITS = 100"
   ]
  },
  {
   "cell_type": "code",
   "execution_count": null,
   "metadata": {},
   "outputs": [],
   "source": [
    "q1_labeled_results = labeled_results[labeled_results['Question'] == Q1]\n",
    "features = get_word_counts(q1_labeled_results)\n",
    "features_tfidf = get_tfidf(q1_labeled_results)\n",
    "features = features_tfidf\n",
    "labels = np.array(q1_labeled_results['Categorical Tag'])\n",
    "conf_matrices = get_conf_matrices(features, labels, clfs = ['svc', 'gnb', 'rfc'], trials = TRIALS, splits = SPLITS, test_size = 0.3)"
   ]
  },
  {
   "cell_type": "code",
   "execution_count": null,
   "metadata": {},
   "outputs": [],
   "source": [
    "get_average_heatmaps({'svc': conf_matrices['svc']}, trials = TRIALS, splits = SPLITS, normalize = True)"
   ]
  },
  {
   "cell_type": "code",
   "execution_count": null,
   "metadata": {},
   "outputs": [],
   "source": [
    "cv_count = 10\n",
    "get_cross_validation_scores(features, labels, svm.SVC(), cv_count = cv_count)\n",
    "get_cross_validation_scores(features, labels, RandomForestClassifier(), cv_count = cv_count)\n",
    "get_cross_validation_scores(features.toarray(), labels, GaussianNB(), cv_count = cv_count)"
   ]
  },
  {
   "cell_type": "code",
   "execution_count": null,
   "metadata": {},
   "outputs": [],
   "source": [
    "svc = svm.SVC()\n",
    "rfc = RandomForestClassifier()\n",
    "gnb = GaussianNB()\n",
    "for clf in [svc, rfc, gnb]:\n",
    "    arr = np.array(get_kappa(features.toarray(), labels, clf, trials = 100))\n",
    "    print(arr.mean(), 2*arr.std())\n",
    "    "
   ]
  },
  {
   "cell_type": "code",
   "execution_count": null,
   "metadata": {},
   "outputs": [],
   "source": [
    "def macro_F(conf_matrix):\n",
    "    dim = len(conf_matrix)\n",
    "    F_scores = []\n",
    "    for k in range(dim):\n",
    "        correct = conf_matrix[k][k]\n",
    "        false_positive = sum([conf_matrix[j][k] for j in range(dim)])-correct\n",
    "        false_negative = sum([conf_matrix[k][j] for j in range(dim)])-correct\n",
    "        precision = correct/(correct+false_positive)\n",
    "        recall = correct/(correct+false_negative)\n",
    "        F = 2*precision*recall/(precision+recall)\n",
    "        F_scores.append(F)\n",
    "    return np.mean(F_scores)"
   ]
  },
  {
   "cell_type": "code",
   "execution_count": null,
   "metadata": {},
   "outputs": [],
   "source": [
    "for clf, conf_matrix in conf_matrices.items():\n",
    "    macro_F_scores = []\n",
    "    print(clf)\n",
    "    for conf_matrix in conf_matrix:\n",
    "        macro_F_scores.append(macro_F(conf_matrix))\n",
    "    print((np.mean(macro_F_scores), 2*np.std(macro_F_scores)))"
   ]
  },
  {
   "cell_type": "code",
   "execution_count": null,
   "metadata": {},
   "outputs": [],
   "source": []
  }
 ],
 "metadata": {
  "kernelspec": {
   "display_name": "Python 3",
   "language": "python",
   "name": "python3"
  },
  "language_info": {
   "codemirror_mode": {
    "name": "ipython",
    "version": 3
   },
   "file_extension": ".py",
   "mimetype": "text/x-python",
   "name": "python",
   "nbconvert_exporter": "python",
   "pygments_lexer": "ipython3",
   "version": "3.5.7"
  }
 },
 "nbformat": 4,
 "nbformat_minor": 2
}
